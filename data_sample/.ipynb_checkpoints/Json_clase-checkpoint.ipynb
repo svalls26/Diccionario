{
 "cells": [
  {
   "cell_type": "code",
   "execution_count": 1,
   "metadata": {},
   "outputs": [],
   "source": [
    "import json"
   ]
  },
  {
   "cell_type": "code",
   "execution_count": 8,
   "metadata": {},
   "outputs": [],
   "source": [
    "with open(\"data_example.json\", \"r\") as read_file:\n",
    "    data = json.load(read_file)"
   ]
  },
  {
   "cell_type": "code",
   "execution_count": 9,
   "metadata": {},
   "outputs": [
    {
     "data": {
      "text/plain": [
       "{'students': [{'Name': 'Ronal Muresano',\n",
       "   'Age': '40',\n",
       "   'Address': 'Rocafort',\n",
       "   'regionCode': 'VA',\n",
       "   'Topics': {'POO': {'Grades': [8, 8, 8]},\n",
       "    'Staditics': {'Grades': [7, 7, 8]},\n",
       "    'Maths': {'Grades': [8, 5, 9]}}},\n",
       "  {'Name': 'Rosa Cáceres',\n",
       "   'Age': '35',\n",
       "   'Address': 'Valencia',\n",
       "   'regionCode': 'VA',\n",
       "   'Topics': {'POO': {'Grades': [7, 8, 9]},\n",
       "    'Staditics': {'Grades': [7, 7, 8]},\n",
       "    'Maths': {'Grades': [8, 5, 9]}}},\n",
       "  {'Name': 'Carmen Fornés',\n",
       "   'Age': '19',\n",
       "   'Address': 'Alicante',\n",
       "   'regionCode': 'AL',\n",
       "   'Topics': {'POO': {'Grades': [5, 6, 7]},\n",
       "    'Staditics': {'Grades': [10, 10, 10]},\n",
       "    'Maths': {'Grades': [8, 5, 9]}}}]}"
      ]
     },
     "execution_count": 9,
     "metadata": {},
     "output_type": "execute_result"
    }
   ],
   "source": [
    "data"
   ]
  },
  {
   "cell_type": "code",
   "execution_count": 11,
   "metadata": {},
   "outputs": [
    {
     "data": {
      "text/plain": [
       "[{'Name': 'Ronal Muresano',\n",
       "  'Age': '40',\n",
       "  'Address': 'Rocafort',\n",
       "  'regionCode': 'VA',\n",
       "  'Topics': {'POO': {'Grades': [8, 8, 8]},\n",
       "   'Staditics': {'Grades': [7, 7, 8]},\n",
       "   'Maths': {'Grades': [8, 5, 9]}}},\n",
       " {'Name': 'Rosa Cáceres',\n",
       "  'Age': '35',\n",
       "  'Address': 'Valencia',\n",
       "  'regionCode': 'VA',\n",
       "  'Topics': {'POO': {'Grades': [7, 8, 9]},\n",
       "   'Staditics': {'Grades': [7, 7, 8]},\n",
       "   'Maths': {'Grades': [8, 5, 9]}}},\n",
       " {'Name': 'Carmen Fornés',\n",
       "  'Age': '19',\n",
       "  'Address': 'Alicante',\n",
       "  'regionCode': 'AL',\n",
       "  'Topics': {'POO': {'Grades': [5, 6, 7]},\n",
       "   'Staditics': {'Grades': [10, 10, 10]},\n",
       "   'Maths': {'Grades': [8, 5, 9]}}}]"
      ]
     },
     "execution_count": 11,
     "metadata": {},
     "output_type": "execute_result"
    }
   ],
   "source": [
    "data[\"students\"]"
   ]
  },
  {
   "cell_type": "code",
   "execution_count": 12,
   "metadata": {},
   "outputs": [
    {
     "data": {
      "text/plain": [
       "{'Name': 'Ronal Muresano',\n",
       " 'Age': '40',\n",
       " 'Address': 'Rocafort',\n",
       " 'regionCode': 'VA',\n",
       " 'Topics': {'POO': {'Grades': [8, 8, 8]},\n",
       "  'Staditics': {'Grades': [7, 7, 8]},\n",
       "  'Maths': {'Grades': [8, 5, 9]}}}"
      ]
     },
     "execution_count": 12,
     "metadata": {},
     "output_type": "execute_result"
    }
   ],
   "source": [
    "data[\"students\"][0]"
   ]
  },
  {
   "cell_type": "code",
   "execution_count": 17,
   "metadata": {},
   "outputs": [
    {
     "name": "stdout",
     "output_type": "stream",
     "text": [
      "Ronal Muresano\n",
      "Rosa Cáceres\n",
      "Carmen Fornés\n"
     ]
    }
   ],
   "source": [
    "name = []\n",
    "\n",
    "for idx, x in enumerate(data[\"students\"]):\n",
    "    print(x['Name'])\n",
    "    name.append(x['Name'])"
   ]
  },
  {
   "cell_type": "code",
   "execution_count": 18,
   "metadata": {},
   "outputs": [
    {
     "data": {
      "text/plain": [
       "['Ronal Muresano', 'Rosa Cáceres', 'Carmen Fornés']"
      ]
     },
     "execution_count": 18,
     "metadata": {},
     "output_type": "execute_result"
    }
   ],
   "source": [
    "name"
   ]
  },
  {
   "cell_type": "code",
   "execution_count": 21,
   "metadata": {},
   "outputs": [
    {
     "data": {
      "text/plain": [
       "{'POO': {'Grades': [8, 8, 8]},\n",
       " 'Staditics': {'Grades': [7, 7, 8]},\n",
       " 'Maths': {'Grades': [8, 5, 9]}}"
      ]
     },
     "execution_count": 21,
     "metadata": {},
     "output_type": "execute_result"
    }
   ],
   "source": [
    "subsample = data[\"students\"][0][\"Topics\"]\n",
    "subsample"
   ]
  },
  {
   "cell_type": "code",
   "execution_count": 22,
   "metadata": {},
   "outputs": [
    {
     "data": {
      "text/plain": [
       "[8, 8, 8]"
      ]
     },
     "execution_count": 22,
     "metadata": {},
     "output_type": "execute_result"
    }
   ],
   "source": [
    "poo = []\n",
    "for poogrades in subsample['POO']['Grades']:\n",
    "    poo.append(poogrades)\n",
    "    \n",
    "poo"
   ]
  },
  {
   "cell_type": "code",
   "execution_count": 25,
   "metadata": {},
   "outputs": [
    {
     "data": {
      "text/plain": [
       "8"
      ]
     },
     "execution_count": 25,
     "metadata": {},
     "output_type": "execute_result"
    }
   ],
   "source": [
    "max(poo)"
   ]
  },
  {
   "cell_type": "code",
   "execution_count": 26,
   "metadata": {},
   "outputs": [
    {
     "data": {
      "text/plain": [
       "8"
      ]
     },
     "execution_count": 26,
     "metadata": {},
     "output_type": "execute_result"
    }
   ],
   "source": [
    "min(poo)"
   ]
  },
  {
   "cell_type": "code",
   "execution_count": 27,
   "metadata": {},
   "outputs": [
    {
     "data": {
      "text/plain": [
       "3"
      ]
     },
     "execution_count": 27,
     "metadata": {},
     "output_type": "execute_result"
    }
   ],
   "source": [
    "len(data[\"students\"])"
   ]
  },
  {
   "cell_type": "code",
   "execution_count": 28,
   "metadata": {},
   "outputs": [],
   "source": [
    "data[\"students\"][0][\"Name\"]= \"María Cáceres\""
   ]
  },
  {
   "cell_type": "code",
   "execution_count": 29,
   "metadata": {},
   "outputs": [
    {
     "data": {
      "text/plain": [
       "{'students': [{'Name': 'María Cáceres',\n",
       "   'Age': '40',\n",
       "   'Address': 'Rocafort',\n",
       "   'regionCode': 'VA',\n",
       "   'Topics': {'POO': {'Grades': [8, 8, 8]},\n",
       "    'Staditics': {'Grades': [7, 7, 8]},\n",
       "    'Maths': {'Grades': [8, 5, 9]}}},\n",
       "  {'Name': 'Rosa Cáceres',\n",
       "   'Age': '35',\n",
       "   'Address': 'Valencia',\n",
       "   'regionCode': 'VA',\n",
       "   'Topics': {'POO': {'Grades': [7, 8, 9]},\n",
       "    'Staditics': {'Grades': [7, 7, 8]},\n",
       "    'Maths': {'Grades': [8, 5, 9]}}},\n",
       "  {'Name': 'Carmen Fornés',\n",
       "   'Age': '19',\n",
       "   'Address': 'Alicante',\n",
       "   'regionCode': 'AL',\n",
       "   'Topics': {'POO': {'Grades': [5, 6, 7]},\n",
       "    'Staditics': {'Grades': [10, 10, 10]},\n",
       "    'Maths': {'Grades': [8, 5, 9]}}}]}"
      ]
     },
     "execution_count": 29,
     "metadata": {},
     "output_type": "execute_result"
    }
   ],
   "source": [
    "data"
   ]
  },
  {
   "cell_type": "code",
   "execution_count": 30,
   "metadata": {},
   "outputs": [
    {
     "data": {
      "text/plain": [
       "{'students': [{'Name': 'María Cáceres',\n",
       "   'Age': '40',\n",
       "   'Address': 'Rocafort',\n",
       "   'regionCode': 'VA',\n",
       "   'Topics': {'POO': {'Grades': [8, 8, 8]},\n",
       "    'Staditics': {'Grades': [7, 7, 8]},\n",
       "    'Maths': {'Grades': [8, 5, 9]}}},\n",
       "  {'Name': 'Carmen Fornés',\n",
       "   'Age': '19',\n",
       "   'Address': 'Alicante',\n",
       "   'regionCode': 'AL',\n",
       "   'Topics': {'POO': {'Grades': [5, 6, 7]},\n",
       "    'Staditics': {'Grades': [10, 10, 10]},\n",
       "    'Maths': {'Grades': [8, 5, 9]}}}]}"
      ]
     },
     "execution_count": 30,
     "metadata": {},
     "output_type": "execute_result"
    }
   ],
   "source": [
    "del data[\"students\"][1]\n",
    "data"
   ]
  },
  {
   "cell_type": "code",
   "execution_count": 31,
   "metadata": {},
   "outputs": [],
   "source": [
    "with open('result.json', 'w') as fp:\n",
    "    json.dump(data,fp)"
   ]
  },
  {
   "cell_type": "code",
   "execution_count": null,
   "metadata": {},
   "outputs": [],
   "source": []
  }
 ],
 "metadata": {
  "kernelspec": {
   "display_name": "Python 3",
   "language": "python",
   "name": "python3"
  },
  "language_info": {
   "codemirror_mode": {
    "name": "ipython",
    "version": 3
   },
   "file_extension": ".py",
   "mimetype": "text/x-python",
   "name": "python",
   "nbconvert_exporter": "python",
   "pygments_lexer": "ipython3",
   "version": "3.7.4"
  }
 },
 "nbformat": 4,
 "nbformat_minor": 4
}
